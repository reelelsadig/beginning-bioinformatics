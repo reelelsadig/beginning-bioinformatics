{
  "nbformat": 4,
  "nbformat_minor": 0,
  "metadata": {
    "colab": {
      "provenance": [],
      "authorship_tag": "ABX9TyO5JaPBbeQjT5lB2G3EjyMS",
      "include_colab_link": true
    },
    "kernelspec": {
      "name": "python3",
      "display_name": "Python 3"
    },
    "language_info": {
      "name": "python"
    }
  },
  "cells": [
    {
      "cell_type": "markdown",
      "metadata": {
        "id": "view-in-github",
        "colab_type": "text"
      },
      "source": [
        "<a href=\"https://colab.research.google.com/github/reelelsadig/beginning-bioinformatics/blob/main/notebooks_Bioinformatics_Module03.ipynb\" target=\"_parent\"><img src=\"https://colab.research.google.com/assets/colab-badge.svg\" alt=\"Open In Colab\"/></a>"
      ]
    },
    {
      "cell_type": "code",
      "execution_count": null,
      "metadata": {
        "id": "HMPZeE1EGKaR",
        "colab": {
          "base_uri": "https://localhost:8080/",
          "height": 233
        },
        "outputId": "245643ad-d796-4915-97b9-6296a04f6007"
      },
      "outputs": [
        {
          "output_type": "error",
          "ename": "FileNotFoundError",
          "evalue": "[Errno 2] No such file or directory: '/content/practice.txt'",
          "traceback": [
            "\u001b[0;31m---------------------------------------------------------------------------\u001b[0m",
            "\u001b[0;31mFileNotFoundError\u001b[0m                         Traceback (most recent call last)",
            "\u001b[0;32m/tmp/ipython-input-4142569911.py\u001b[0m in \u001b[0;36m<cell line: 0>\u001b[0;34m()\u001b[0m\n\u001b[0;32m----> 1\u001b[0;31m \u001b[0;32mwith\u001b[0m \u001b[0mopen\u001b[0m\u001b[0;34m(\u001b[0m\u001b[0;34m\"/content/practice.txt\"\u001b[0m\u001b[0;34m,\u001b[0m \u001b[0;34m\"r\"\u001b[0m\u001b[0;34m)\u001b[0m \u001b[0;32mas\u001b[0m \u001b[0mdata\u001b[0m\u001b[0;34m:\u001b[0m\u001b[0;34m\u001b[0m\u001b[0;34m\u001b[0m\u001b[0m\n\u001b[0m\u001b[1;32m      2\u001b[0m     \u001b[0mprint\u001b[0m\u001b[0;34m(\u001b[0m\u001b[0mdata\u001b[0m\u001b[0;34m.\u001b[0m\u001b[0mread\u001b[0m\u001b[0;34m(\u001b[0m\u001b[0;34m)\u001b[0m\u001b[0;34m)\u001b[0m\u001b[0;34m\u001b[0m\u001b[0;34m\u001b[0m\u001b[0m\n\u001b[1;32m      3\u001b[0m \u001b[0;34m\u001b[0m\u001b[0m\n",
            "\u001b[0;31mFileNotFoundError\u001b[0m: [Errno 2] No such file or directory: '/content/practice.txt'"
          ]
        }
      ],
      "source": [
        "with open(\"/content/practice.txt\", \"r\") as data:\n",
        "    print(data.read())\n",
        "\n"
      ]
    },
    {
      "cell_type": "code",
      "source": [
        "with open(\"/content/practice.txt\", \"r\") as data:\n",
        "    print(data.read())          # prints the whole file\n",
        "\n",
        "with open(\"/content/practice.txt\", \"r\") as data:\n",
        "    print(data.readline())      # prints the first line\n",
        "\n",
        "with open(\"/content/practice.txt\", \"r\") as data:\n",
        "    print(data.readlines())     # prints all lines as a list\n"
      ],
      "metadata": {
        "colab": {
          "base_uri": "https://localhost:8080/"
        },
        "id": "xCOGZiJzQ4JS",
        "outputId": "9bd331d2-7a6a-4643-e5c3-dcaf9923fac7"
      },
      "execution_count": null,
      "outputs": [
        {
          "output_type": "stream",
          "name": "stdout",
          "text": [
            "Bravely bold Sir Robin rode forth from Camelot\n",
            "Yes, brave Sir Robin turned about\n",
            "He was not afraid to die, O brave Sir Robin\n",
            "And gallantly he chickened out\n",
            "He was not at all afraid to be killed in nasty ways\n",
            "Bravely talking to his feet\n",
            "Brave, brave, brave, brave Sir Robin\n",
            "He beat a very brave retreat\n",
            "\n",
            "Bravely bold Sir Robin rode forth from Camelot\n",
            "\n",
            "['Bravely bold Sir Robin rode forth from Camelot\\n', 'Yes, brave Sir Robin turned about\\n', 'He was not afraid to die, O brave Sir Robin\\n', 'And gallantly he chickened out\\n', 'He was not at all afraid to be killed in nasty ways\\n', 'Bravely talking to his feet\\n', 'Brave, brave, brave, brave Sir Robin\\n', 'He beat a very brave retreat\\n']\n"
          ]
        }
      ]
    },
    {
      "cell_type": "code",
      "source": [
        "with open(\"/content/practice.txt\", \"r\") as data:\n",
        "    lines = data.readlines()   # step 1: store all lines in a list\n",
        "\n",
        "# step 2: join them into a single string after file is closed\n",
        "output = \"\".join(lines)\n",
        "print(output)\n"
      ],
      "metadata": {
        "colab": {
          "base_uri": "https://localhost:8080/"
        },
        "id": "MDcZVcB7RzXr",
        "outputId": "14d1c7ed-e54a-49f7-91d6-348197dcdef7"
      },
      "execution_count": null,
      "outputs": [
        {
          "output_type": "stream",
          "name": "stdout",
          "text": [
            "Bravely bold Sir Robin rode forth from Camelot\n",
            "Yes, brave Sir Robin turned about\n",
            "He was not afraid to die, O brave Sir Robin\n",
            "And gallantly he chickened out\n",
            "He was not at all afraid to be killed in nasty ways\n",
            "Bravely talking to his feet\n",
            "Brave, brave, brave, brave Sir Robin\n",
            "He beat a very brave retreat\n",
            "\n"
          ]
        }
      ]
    },
    {
      "cell_type": "code",
      "source": [
        "with open(\"practice.txt\", \"r\") as data:\n",
        "  for line in data:\n",
        "    print(line)"
      ],
      "metadata": {
        "colab": {
          "base_uri": "https://localhost:8080/"
        },
        "id": "2m2Gq0lvSBdL",
        "outputId": "c41025c5-0764-4dcf-9e1f-aa5c9390fc65"
      },
      "execution_count": null,
      "outputs": [
        {
          "output_type": "stream",
          "name": "stdout",
          "text": [
            "Bravely bold Sir Robin rode forth from Camelot\n",
            "\n",
            "Yes, brave Sir Robin turned about\n",
            "\n",
            "He was not afraid to die, O brave Sir Robin\n",
            "\n",
            "And gallantly he chickened out\n",
            "\n",
            "He was not at all afraid to be killed in nasty ways\n",
            "\n",
            "Bravely talking to his feet\n",
            "\n",
            "Brave, brave, brave, brave Sir Robin\n",
            "\n",
            "He beat a very brave retreat\n",
            "\n"
          ]
        }
      ]
    },
    {
      "cell_type": "code",
      "source": [
        "\n",
        "with open(\"/content/practice.txt\", \"r\") as data:\n",
        "    lines = data.readlines()\n",
        "\n",
        "\n",
        "even_lines = [line for i, line in enumerate(lines, start=1) if i % 2 == 0]\n",
        "\n",
        "with open(\"/content/output.txt\", \"w\") as out:\n",
        "    out.writelines(even_lines)\n"
      ],
      "metadata": {
        "id": "jqN8PbGhSVhx"
      },
      "execution_count": null,
      "outputs": []
    },
    {
      "cell_type": "code",
      "source": [
        "print(even_lines)"
      ],
      "metadata": {
        "colab": {
          "base_uri": "https://localhost:8080/"
        },
        "id": "iRxV0W-4TF7r",
        "outputId": "270eeb79-c3fa-416e-ad5a-93236f2d19dc"
      },
      "execution_count": null,
      "outputs": [
        {
          "output_type": "stream",
          "name": "stdout",
          "text": [
            "['Yes, brave Sir Robin turned about\\n', 'And gallantly he chickened out\\n', 'Bravely talking to his feet\\n', 'He beat a very brave retreat\\n']\n"
          ]
        }
      ]
    },
    {
      "cell_type": "code",
      "source": [
        "with open(\"/content/practice_5.txt\", \"r\") as data:\n",
        "    line = data.read()\n",
        "    for word in line.split():\n",
        "        print(word)\n"
      ],
      "metadata": {
        "colab": {
          "base_uri": "https://localhost:8080/"
        },
        "id": "g-yMcvy_TFCD",
        "outputId": "3e8ff708-1afb-4f8d-a59b-25a788e82cce"
      },
      "execution_count": null,
      "outputs": [
        {
          "output_type": "stream",
          "name": "stdout",
          "text": [
            "We\n",
            "tried\n",
            "list\n",
            "and\n",
            "we\n",
            "tried\n",
            "dicts\n",
            "also\n",
            "we\n",
            "tried\n",
            "Zen\n"
          ]
        }
      ]
    },
    {
      "cell_type": "code",
      "source": [
        "sequences = {\n",
        "    \"H.neandertalensis\":\"ACGTCGCTCTGCTA\",\n",
        "    \"H.sapiens\":\"ACGTCACTCTGCTA\"}\n",
        "print (sequences)"
      ],
      "metadata": {
        "colab": {
          "base_uri": "https://localhost:8080/"
        },
        "id": "SGWeBaveT5Nx",
        "outputId": "889071d3-3d01-4fbf-fabb-66e899f76f06"
      },
      "execution_count": null,
      "outputs": [
        {
          "output_type": "stream",
          "name": "stdout",
          "text": [
            "{'H.neandertalensis': 'ACGTCGCTCTGCTA', 'H.sapiens': 'ACGTCACTCTGCTA'}\n"
          ]
        }
      ]
    },
    {
      "cell_type": "code",
      "source": [
        "fasta_text = \"\"\">H.neandertalensis\n",
        "ACGTCGCTCTGCTA\n",
        ">H.sapiens\n",
        "ACGTCACTCTGCTA\n",
        "\"\"\"\n",
        "\n",
        "with open(\"/content/hominids.fasta\", \"w\") as f:\n",
        "    f.write(fasta_text)\n",
        "\n",
        "# quick check\n",
        "print(open(\"/content/hominids.fasta\").read())\n"
      ],
      "metadata": {
        "colab": {
          "base_uri": "https://localhost:8080/"
        },
        "id": "EdHPamYcUzTB",
        "outputId": "bb7c0a59-b872-4891-dedf-f8ce4082e402"
      },
      "execution_count": null,
      "outputs": [
        {
          "output_type": "stream",
          "name": "stdout",
          "text": [
            ">H.neandertalensis\n",
            "ACGTCGCTCTGCTA\n",
            ">H.sapiens\n",
            "ACGTCACTCTGCTA\n",
            "\n"
          ]
        }
      ]
    },
    {
      "cell_type": "code",
      "source": [
        "s = \"AGCTTTTCATTCTGACTGCAACGGGCAATATGTCTCTGTGTGGATTAAAAAAAGAGTGTCTGATAGCAGC\"\n",
        "\n",
        "# use .count() to count each nucleotide\n",
        "a_count = s.count(\"A\")\n",
        "c_count = s.count(\"C\")\n",
        "g_count = s.count(\"G\")\n",
        "t_count = s.count(\"T\")\n",
        "\n",
        "# print results in order A C G T\n",
        "print(a_count, c_count, g_count, t_count)\n",
        "\n"
      ],
      "metadata": {
        "colab": {
          "base_uri": "https://localhost:8080/"
        },
        "id": "cczahoakClb_",
        "outputId": "d37373fd-2bc3-4a7f-dcab-8c34530c7a25"
      },
      "execution_count": null,
      "outputs": [
        {
          "output_type": "stream",
          "name": "stdout",
          "text": [
            "20 12 17 21\n"
          ]
        }
      ]
    },
    {
      "cell_type": "code",
      "source": [
        "\n",
        "s = \"AGCTTTTCATTCTGACTGCAACGGGCAATATGTCTCTGTGTGGATTAAAAAAAGAGTGTCTGATAGCAGC\"\n",
        "\n",
        "\n",
        "counts = {\"A\": 0, \"C\": 0, \"G\": 0, \"T\": 0}\n",
        "\n",
        "\n",
        "for nucleotide in s:\n",
        "    counts[nucleotide] += 1\n",
        "\n",
        "\n",
        "print(counts[\"A\"], counts[\"C\"], counts[\"G\"], counts[\"T\"])\n",
        "\n"
      ],
      "metadata": {
        "colab": {
          "base_uri": "https://localhost:8080/"
        },
        "id": "k_Iyrp-CCldY",
        "outputId": "39f94ac6-513e-47fb-c598-de4af7f357eb"
      },
      "execution_count": null,
      "outputs": [
        {
          "output_type": "stream",
          "name": "stdout",
          "text": [
            "20 12 17 21\n"
          ]
        }
      ]
    },
    {
      "cell_type": "code",
      "source": [
        "!pip install biopython\n",
        "from Bio.Seq import Seq\n",
        "\n",
        "my_sequence = Seq(\"GATGGAACTTGACTACGTAAATT\")\n",
        "print(my_sequence)\n",
        "\n"
      ],
      "metadata": {
        "id": "PXV-YNFVEV1D",
        "colab": {
          "base_uri": "https://localhost:8080/"
        },
        "outputId": "d7371d54-ef90-48b0-8e9d-7fc5a38e49e0"
      },
      "execution_count": 9,
      "outputs": [
        {
          "output_type": "stream",
          "name": "stdout",
          "text": [
            "Requirement already satisfied: biopython in /usr/local/lib/python3.12/dist-packages (1.85)\n",
            "Requirement already satisfied: numpy in /usr/local/lib/python3.12/dist-packages (from biopython) (2.0.2)\n",
            "GATGGAACTTGACTACGTAAATT\n"
          ]
        }
      ]
    },
    {
      "cell_type": "code",
      "source": [
        "print (my_sequence.complement( ))"
      ],
      "metadata": {
        "colab": {
          "base_uri": "https://localhost:8080/"
        },
        "id": "nGQbdBAjGEmA",
        "outputId": "8086f42c-7c62-4578-9ff4-e80d49b1527c"
      },
      "execution_count": 10,
      "outputs": [
        {
          "output_type": "stream",
          "name": "stdout",
          "text": [
            "CTACCTTGAACTGATGCATTTAA\n"
          ]
        }
      ]
    },
    {
      "cell_type": "code",
      "source": [
        "t = \"GATGGAACTTGACTACGTAAATT\"\n",
        "u = t.replace(\"T\", \"U\")\n",
        "print(u)"
      ],
      "metadata": {
        "colab": {
          "base_uri": "https://localhost:8080/"
        },
        "id": "XasnUVaeGPfU",
        "outputId": "a413269b-29ae-466e-c381-185eb897bd23"
      },
      "execution_count": 12,
      "outputs": [
        {
          "output_type": "stream",
          "name": "stdout",
          "text": [
            "GAUGGAACUUGACUACGUAAAUU\n"
          ]
        }
      ]
    },
    {
      "cell_type": "code",
      "source": [
        "# RNA codon table\n",
        "codon_table = {\n",
        "    'UUU':'F', 'UUC':'F', 'UUA':'L', 'UUG':'L',\n",
        "    'UCU':'S', 'UCC':'S', 'UCA':'S', 'UCG':'S',\n",
        "    'UAU':'Y', 'UAC':'Y', 'UAA':'Stop', 'UAG':'Stop',\n",
        "    'UGU':'C', 'UGC':'C', 'UGA':'Stop', 'UGG':'W',\n",
        "    'CUU':'L', 'CUC':'L', 'CUA':'L', 'CUG':'L',\n",
        "    'CCU':'P', 'CCC':'P', 'CCA':'P', 'CCG':'P',\n",
        "    'CAU':'H', 'CAC':'H', 'CAA':'Q', 'CAG':'Q',\n",
        "    'CGU':'R', 'CGC':'R', 'CGA':'R', 'CGG':'R',\n",
        "    'AUU':'I', 'AUC':'I', 'AUA':'I', 'AUG':'M',\n",
        "    'ACU':'T', 'ACC':'T', 'ACA':'T', 'ACG':'T',\n",
        "    'AAU':'N', 'AAC':'N', 'AAA':'K', 'AAG':'K',\n",
        "    'AGU':'S', 'AGC':'S', 'AGA':'R', 'AGG':'R',\n",
        "    'GUU':'V', 'GUC':'V', 'GUA':'V', 'GUG':'V',\n",
        "    'GCU':'A', 'GCC':'A', 'GCA':'A', 'GCG':'A',\n",
        "    'GAU':'D', 'GAC':'D', 'GAA':'E', 'GAG':'E',\n",
        "    'GGU':'G', 'GGC':'G', 'GGA':'G', 'GGG':'G'\n",
        "}\n",
        "\n",
        "# Input RNA string\n",
        "s = \"AUGGCCAUGGCGCCCAGAACUGAGAUCAAUAGUACCCGUAUUAACGGGUGA\"\n",
        "\n",
        "# Translate RNA into protein\n",
        "protein = \"\"\n",
        "for i in range(0, len(s), 3):\n",
        "    codon = s[i:i+3]\n",
        "    if codon_table[codon] == \"Stop\":\n",
        "        break\n",
        "    protein += codon_table[codon]\n",
        "\n",
        "print(protein)\n"
      ],
      "metadata": {
        "colab": {
          "base_uri": "https://localhost:8080/"
        },
        "id": "h4887ZBnHhs-",
        "outputId": "6580898c-0bb2-4d31-f5a1-ab76181a1587"
      },
      "execution_count": 16,
      "outputs": [
        {
          "output_type": "stream",
          "name": "stdout",
          "text": [
            "MAMAPRTEINSTRING\n"
          ]
        }
      ]
    },
    {
      "cell_type": "code",
      "source": [
        "from Bio.SeqIO import parse\n",
        "for seq_record in parse(\"practice_9.txt.txt\", \"fasta\"):\n",
        "  print (seq_record.id)\n",
        "  print (seq_record.seq)\n",
        "  print (len(seq_record.seq))\n",
        "  print (seq_record)\n",
        "  print (\"GC\")"
      ],
      "metadata": {
        "colab": {
          "base_uri": "https://localhost:8080/"
        },
        "id": "cJJVGcyeHwA4",
        "outputId": "fb70a90e-34ac-43bf-b4a7-206533478648"
      },
      "execution_count": 22,
      "outputs": [
        {
          "output_type": "stream",
          "name": "stdout",
          "text": [
            "Rosalind_6404\n",
            "CCTGCGGAAGATCGGCACTAGAATAGCCAGAACCGTTTCTCTGAGGCTTCCGGCCTTCCCTCCCACTAATAATTCTGAGG\n",
            "80\n",
            "ID: Rosalind_6404\n",
            "Name: Rosalind_6404\n",
            "Description: Rosalind_6404\n",
            "Number of features: 0\n",
            "Seq('CCTGCGGAAGATCGGCACTAGAATAGCCAGAACCGTTTCTCTGAGGCTTCCGGC...AGG')\n",
            "GC\n",
            "Rosalind_5959\n",
            "CCATCGGTAGCGCATCCTTAGTCCAATTAAGTCCCTATCCAGGCGCTCCGCCGAAGGTCTATATCCATTTGTCAGCAGACACGC\n",
            "84\n",
            "ID: Rosalind_5959\n",
            "Name: Rosalind_5959\n",
            "Description: Rosalind_5959\n",
            "Number of features: 0\n",
            "Seq('CCATCGGTAGCGCATCCTTAGTCCAATTAAGTCCCTATCCAGGCGCTCCGCCGA...CGC')\n",
            "GC\n",
            "Rosalind_0808\n",
            "CCACCCTCGTGGTATGGCTAGGCATTCAGGAACCGGAGAACGCTTCAGACCAGCCCGGACTGGGAACCTGCGGGCAGTAGGTGGAAT\n",
            "87\n",
            "ID: Rosalind_0808\n",
            "Name: Rosalind_0808\n",
            "Description: Rosalind_0808\n",
            "Number of features: 0\n",
            "Seq('CCACCCTCGTGGTATGGCTAGGCATTCAGGAACCGGAGAACGCTTCAGACCAGC...AAT')\n",
            "GC\n"
          ]
        }
      ]
    },
    {
      "cell_type": "code",
      "source": [
        " # Input FASTA dataset\n",
        "fasta_data = \"\"\">Rosalind_6404\n",
        "CCTGCGGAAGATCGGCACTAGAATAGCCAGAACCGTTTCTCTGAGGCTTCCGGCCTTCCC\n",
        "TCCCACTAATAATTCTGAGG\n",
        ">Rosalind_5959\n",
        "CCATCGGTAGCGCATCCTTAGTCCAATTAAGTCCCTATCCAGGCGCTCCGCCGAAGGTCT\n",
        "ATATCCATTTGTCAGCAGACACGC\n",
        ">Rosalind_0808\n",
        "CCACCCTCGTGGTATGGCTAGGCATTCAGGAACCGGAGAACGCTTCAGACCAGCCCGGAC\n",
        "TGGGAACCTGCGGGCAGTAGGTGGAAT\"\"\"\n",
        "\n",
        "# Step 1: Parse FASTA\n",
        "sequences = {}\n",
        "current_label = None\n",
        "for line in fasta_data.splitlines():\n",
        "    if line.startswith(\">\"):\n",
        "        current_label = line[1:]   # remove \">\"\n",
        "        sequences[current_label] = \"\"\n",
        "    else:\n",
        "        sequences[current_label] += line.strip()\n",
        "\n",
        "# Step 2: Compute GC content\n",
        "def gc_content(seq):\n",
        "    return ((seq.count(\"G\") + seq.count(\"C\")) / len(seq)) * 100\n",
        "\n",
        "gc_scores = {label: gc_content(seq) for label, seq in sequences.items()}\n",
        "\n",
        "# Step 3: Find the sequence with the max GC content\n",
        "max_id = max(gc_scores, key=gc_scores.get)\n",
        "print(max_id)\n",
        "print(f\"{gc_scores[max_id]:.6f}\")\n"
      ],
      "metadata": {
        "colab": {
          "base_uri": "https://localhost:8080/"
        },
        "id": "ydGv_6l6JAx4",
        "outputId": "d7a50910-9fc5-4bb7-8725-ef1a50bf3e80"
      },
      "execution_count": 23,
      "outputs": [
        {
          "output_type": "stream",
          "name": "stdout",
          "text": [
            "Rosalind_0808\n",
            "60.919540\n"
          ]
        }
      ]
    }
  ]
}